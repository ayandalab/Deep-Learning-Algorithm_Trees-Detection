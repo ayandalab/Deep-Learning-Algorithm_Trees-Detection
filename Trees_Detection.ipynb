{
  "nbformat": 4,
  "nbformat_minor": 0,
  "metadata": {
    "colab": {
      "name": "Trees_Detection",
      "provenance": []
    },
    "kernelspec": {
      "name": "python3",
      "display_name": "Python 3"
    },
    "language_info": {
      "name": "python"
    }
  },
  "cells": [
    {
      "cell_type": "code",
      "metadata": {
        "id": "36Mx4JWJiS2W"
      },
      "source": [
        "from google_drive_downloader import GoogleDriveDownloader as gdd\n",
        "\n",
        "gdd.download_file_from_google_drive(file_id='1ahtCipPXsX9BVRWi6nDG13tr4b_rMY97',\n",
        "dest_path='content/detect_trees_near_electric_wires.zip',\n",
        "unzip=True)"
      ],
      "execution_count": 168,
      "outputs": []
    },
    {
      "cell_type": "code",
      "metadata": {
        "id": "JY5cxWdflWaF"
      },
      "source": [
        "import pandas as pd \n",
        "import numpy as np \n",
        "import tensorflow as tf \n",
        "import os \n",
        "import cv2 \n",
        "from sklearn.model_selection import train_test_split \n",
        "from sklearn.metrics import accuracy_score"
      ],
      "execution_count": 169,
      "outputs": []
    },
    {
      "cell_type": "code",
      "metadata": {
        "colab": {
          "base_uri": "https://localhost:8080/",
          "height": 202
        },
        "id": "ZW5Jb5UI3nRZ",
        "outputId": "1cb390c8-5864-4ca0-c7ea-f7c30fc1a941"
      },
      "source": [
        "labels = pd.read_csv(\"/content/content/detect_trees_near_electric_wires/train.csv\") \n",
        "labels.head() "
      ],
      "execution_count": 170,
      "outputs": [
        {
          "output_type": "execute_result",
          "data": {
            "text/html": [
              "<div>\n",
              "<style scoped>\n",
              "    .dataframe tbody tr th:only-of-type {\n",
              "        vertical-align: middle;\n",
              "    }\n",
              "\n",
              "    .dataframe tbody tr th {\n",
              "        vertical-align: top;\n",
              "    }\n",
              "\n",
              "    .dataframe thead th {\n",
              "        text-align: right;\n",
              "    }\n",
              "</style>\n",
              "<table border=\"1\" class=\"dataframe\">\n",
              "  <thead>\n",
              "    <tr style=\"text-align: right;\">\n",
              "      <th></th>\n",
              "      <th>file_name</th>\n",
              "      <th>Intersection</th>\n",
              "    </tr>\n",
              "  </thead>\n",
              "  <tbody>\n",
              "    <tr>\n",
              "      <th>0</th>\n",
              "      <td>Image_1.jpg</td>\n",
              "      <td>0</td>\n",
              "    </tr>\n",
              "    <tr>\n",
              "      <th>1</th>\n",
              "      <td>Image_2.jpg</td>\n",
              "      <td>1</td>\n",
              "    </tr>\n",
              "    <tr>\n",
              "      <th>2</th>\n",
              "      <td>Image_3.jpg</td>\n",
              "      <td>1</td>\n",
              "    </tr>\n",
              "    <tr>\n",
              "      <th>3</th>\n",
              "      <td>Image_4.jpg</td>\n",
              "      <td>1</td>\n",
              "    </tr>\n",
              "    <tr>\n",
              "      <th>4</th>\n",
              "      <td>Image_5.jpg</td>\n",
              "      <td>1</td>\n",
              "    </tr>\n",
              "  </tbody>\n",
              "</table>\n",
              "</div>"
            ],
            "text/plain": [
              "     file_name  Intersection\n",
              "0  Image_1.jpg             0\n",
              "1  Image_2.jpg             1\n",
              "2  Image_3.jpg             1\n",
              "3  Image_4.jpg             1\n",
              "4  Image_5.jpg             1"
            ]
          },
          "metadata": {
            "tags": []
          },
          "execution_count": 170
        }
      ]
    },
    {
      "cell_type": "code",
      "metadata": {
        "colab": {
          "base_uri": "https://localhost:8080/",
          "height": 202
        },
        "id": "lnnkDuum32C6",
        "outputId": "8a36e91d-b0a6-41a2-a9b1-d35b9d07c324"
      },
      "source": [
        "labels.tail()"
      ],
      "execution_count": 171,
      "outputs": [
        {
          "output_type": "execute_result",
          "data": {
            "text/html": [
              "<div>\n",
              "<style scoped>\n",
              "    .dataframe tbody tr th:only-of-type {\n",
              "        vertical-align: middle;\n",
              "    }\n",
              "\n",
              "    .dataframe tbody tr th {\n",
              "        vertical-align: top;\n",
              "    }\n",
              "\n",
              "    .dataframe thead th {\n",
              "        text-align: right;\n",
              "    }\n",
              "</style>\n",
              "<table border=\"1\" class=\"dataframe\">\n",
              "  <thead>\n",
              "    <tr style=\"text-align: right;\">\n",
              "      <th></th>\n",
              "      <th>file_name</th>\n",
              "      <th>Intersection</th>\n",
              "    </tr>\n",
              "  </thead>\n",
              "  <tbody>\n",
              "    <tr>\n",
              "      <th>1437</th>\n",
              "      <td>Image_1438.jpg</td>\n",
              "      <td>1</td>\n",
              "    </tr>\n",
              "    <tr>\n",
              "      <th>1438</th>\n",
              "      <td>Image_1439.jpg</td>\n",
              "      <td>0</td>\n",
              "    </tr>\n",
              "    <tr>\n",
              "      <th>1439</th>\n",
              "      <td>Image_1440.jpg</td>\n",
              "      <td>1</td>\n",
              "    </tr>\n",
              "    <tr>\n",
              "      <th>1440</th>\n",
              "      <td>Image_1441.jpg</td>\n",
              "      <td>0</td>\n",
              "    </tr>\n",
              "    <tr>\n",
              "      <th>1441</th>\n",
              "      <td>Image_1442.jpg</td>\n",
              "      <td>1</td>\n",
              "    </tr>\n",
              "  </tbody>\n",
              "</table>\n",
              "</div>"
            ],
            "text/plain": [
              "           file_name  Intersection\n",
              "1437  Image_1438.jpg             1\n",
              "1438  Image_1439.jpg             0\n",
              "1439  Image_1440.jpg             1\n",
              "1440  Image_1441.jpg             0\n",
              "1441  Image_1442.jpg             1"
            ]
          },
          "metadata": {
            "tags": []
          },
          "execution_count": 171
        }
      ]
    },
    {
      "cell_type": "code",
      "metadata": {
        "id": "Slr6Fp0O4fQr"
      },
      "source": [
        "file_paths = [[fname, '/content/content/detect_trees_near_electric_wires/train/' + fname] for fname in labels['file_name']]"
      ],
      "execution_count": 172,
      "outputs": []
    },
    {
      "cell_type": "code",
      "metadata": {
        "colab": {
          "base_uri": "https://localhost:8080/"
        },
        "id": "CPRxls124npl",
        "outputId": "8351bfd3-4045-4a6e-efc9-65dfa28fd380"
      },
      "source": [
        "# Confirm if number of images is same as number of labels given\n",
        "if len(labels) == len(file_paths):\n",
        "   print('Number of labels i.e. ', len(labels), 'matches the number of filenames i.e. ', len(file_paths))\n",
        "else:\n",
        "   print('Number of labels does not match the number of filenames')"
      ],
      "execution_count": 173,
      "outputs": [
        {
          "output_type": "stream",
          "text": [
            "Number of labels i.e.  1442 matches the number of filenames i.e.  1442\n"
          ],
          "name": "stdout"
        }
      ]
    },
    {
      "cell_type": "code",
      "metadata": {
        "colab": {
          "base_uri": "https://localhost:8080/",
          "height": 202
        },
        "id": "XAu1DlSC5Ebo",
        "outputId": "ebf20f92-b905-4467-bbdb-fa09e18d93ce"
      },
      "source": [
        "images = pd.DataFrame(file_paths, columns=['file_name', 'filepaths'])\n",
        "images.head()"
      ],
      "execution_count": 174,
      "outputs": [
        {
          "output_type": "execute_result",
          "data": {
            "text/html": [
              "<div>\n",
              "<style scoped>\n",
              "    .dataframe tbody tr th:only-of-type {\n",
              "        vertical-align: middle;\n",
              "    }\n",
              "\n",
              "    .dataframe tbody tr th {\n",
              "        vertical-align: top;\n",
              "    }\n",
              "\n",
              "    .dataframe thead th {\n",
              "        text-align: right;\n",
              "    }\n",
              "</style>\n",
              "<table border=\"1\" class=\"dataframe\">\n",
              "  <thead>\n",
              "    <tr style=\"text-align: right;\">\n",
              "      <th></th>\n",
              "      <th>file_name</th>\n",
              "      <th>filepaths</th>\n",
              "    </tr>\n",
              "  </thead>\n",
              "  <tbody>\n",
              "    <tr>\n",
              "      <th>0</th>\n",
              "      <td>Image_1.jpg</td>\n",
              "      <td>/content/content/detect_trees_near_electric_wi...</td>\n",
              "    </tr>\n",
              "    <tr>\n",
              "      <th>1</th>\n",
              "      <td>Image_2.jpg</td>\n",
              "      <td>/content/content/detect_trees_near_electric_wi...</td>\n",
              "    </tr>\n",
              "    <tr>\n",
              "      <th>2</th>\n",
              "      <td>Image_3.jpg</td>\n",
              "      <td>/content/content/detect_trees_near_electric_wi...</td>\n",
              "    </tr>\n",
              "    <tr>\n",
              "      <th>3</th>\n",
              "      <td>Image_4.jpg</td>\n",
              "      <td>/content/content/detect_trees_near_electric_wi...</td>\n",
              "    </tr>\n",
              "    <tr>\n",
              "      <th>4</th>\n",
              "      <td>Image_5.jpg</td>\n",
              "      <td>/content/content/detect_trees_near_electric_wi...</td>\n",
              "    </tr>\n",
              "  </tbody>\n",
              "</table>\n",
              "</div>"
            ],
            "text/plain": [
              "     file_name                                          filepaths\n",
              "0  Image_1.jpg  /content/content/detect_trees_near_electric_wi...\n",
              "1  Image_2.jpg  /content/content/detect_trees_near_electric_wi...\n",
              "2  Image_3.jpg  /content/content/detect_trees_near_electric_wi...\n",
              "3  Image_4.jpg  /content/content/detect_trees_near_electric_wi...\n",
              "4  Image_5.jpg  /content/content/detect_trees_near_electric_wi..."
            ]
          },
          "metadata": {
            "tags": []
          },
          "execution_count": 174
        }
      ]
    },
    {
      "cell_type": "code",
      "metadata": {
        "colab": {
          "base_uri": "https://localhost:8080/",
          "height": 202
        },
        "id": "6c7vOEyX5Lxw",
        "outputId": "d3394d7c-b5eb-4ba7-fe86-e292bfa82d9a"
      },
      "source": [
        "train_data = pd.merge(images, labels, how = 'inner', on = 'file_name')\n",
        "train_data.head()"
      ],
      "execution_count": 175,
      "outputs": [
        {
          "output_type": "execute_result",
          "data": {
            "text/html": [
              "<div>\n",
              "<style scoped>\n",
              "    .dataframe tbody tr th:only-of-type {\n",
              "        vertical-align: middle;\n",
              "    }\n",
              "\n",
              "    .dataframe tbody tr th {\n",
              "        vertical-align: top;\n",
              "    }\n",
              "\n",
              "    .dataframe thead th {\n",
              "        text-align: right;\n",
              "    }\n",
              "</style>\n",
              "<table border=\"1\" class=\"dataframe\">\n",
              "  <thead>\n",
              "    <tr style=\"text-align: right;\">\n",
              "      <th></th>\n",
              "      <th>file_name</th>\n",
              "      <th>filepaths</th>\n",
              "      <th>Intersection</th>\n",
              "    </tr>\n",
              "  </thead>\n",
              "  <tbody>\n",
              "    <tr>\n",
              "      <th>0</th>\n",
              "      <td>Image_1.jpg</td>\n",
              "      <td>/content/content/detect_trees_near_electric_wi...</td>\n",
              "      <td>0</td>\n",
              "    </tr>\n",
              "    <tr>\n",
              "      <th>1</th>\n",
              "      <td>Image_2.jpg</td>\n",
              "      <td>/content/content/detect_trees_near_electric_wi...</td>\n",
              "      <td>1</td>\n",
              "    </tr>\n",
              "    <tr>\n",
              "      <th>2</th>\n",
              "      <td>Image_3.jpg</td>\n",
              "      <td>/content/content/detect_trees_near_electric_wi...</td>\n",
              "      <td>1</td>\n",
              "    </tr>\n",
              "    <tr>\n",
              "      <th>3</th>\n",
              "      <td>Image_4.jpg</td>\n",
              "      <td>/content/content/detect_trees_near_electric_wi...</td>\n",
              "      <td>1</td>\n",
              "    </tr>\n",
              "    <tr>\n",
              "      <th>4</th>\n",
              "      <td>Image_5.jpg</td>\n",
              "      <td>/content/content/detect_trees_near_electric_wi...</td>\n",
              "      <td>1</td>\n",
              "    </tr>\n",
              "  </tbody>\n",
              "</table>\n",
              "</div>"
            ],
            "text/plain": [
              "     file_name                                          filepaths  Intersection\n",
              "0  Image_1.jpg  /content/content/detect_trees_near_electric_wi...             0\n",
              "1  Image_2.jpg  /content/content/detect_trees_near_electric_wi...             1\n",
              "2  Image_3.jpg  /content/content/detect_trees_near_electric_wi...             1\n",
              "3  Image_4.jpg  /content/content/detect_trees_near_electric_wi...             1\n",
              "4  Image_5.jpg  /content/content/detect_trees_near_electric_wi...             1"
            ]
          },
          "metadata": {
            "tags": []
          },
          "execution_count": 175
        }
      ]
    },
    {
      "cell_type": "code",
      "metadata": {
        "id": "6fQYgV-i5qLg"
      },
      "source": [
        "data = [] # initialize an empty numpy array\n",
        "image_size = 100 # image size taken is 100 here. one can take other size too\n",
        "for i in range(len(train_data)):\n",
        "\n",
        "    img_array = cv2.imread(train_data['filepaths'][i], cv2.IMREAD_GRAYSCALE) # converting the image to gray scale\n",
        "\n",
        "    new_img_array = cv2.resize(img_array, (image_size, image_size)) # resizing the image array\n",
        "    data.append([new_img_array, train_data['Intersection'][i]])"
      ],
      "execution_count": 176,
      "outputs": []
    },
    {
      "cell_type": "code",
      "metadata": {
        "colab": {
          "base_uri": "https://localhost:8080/"
        },
        "id": "sfcsl3TI63OI",
        "outputId": "03acf70d-c1c7-4940-c0e1-233c69838a89"
      },
      "source": [
        "data[0]"
      ],
      "execution_count": 177,
      "outputs": [
        {
          "output_type": "execute_result",
          "data": {
            "text/plain": [
              "[array([[198, 197, 196, ...,  51, 236, 253],\n",
              "        [198, 198, 199, ..., 212, 193, 154],\n",
              "        [199, 199, 200, ..., 102, 108, 113],\n",
              "        ...,\n",
              "        [136, 190,  55, ..., 105, 117, 115],\n",
              "        [137, 248,  94, ...,  28,  67,  85],\n",
              "        [146, 143, 128, ...,  37,  40,  35]], dtype=uint8), 0]"
            ]
          },
          "metadata": {
            "tags": []
          },
          "execution_count": 177
        }
      ]
    },
    {
      "cell_type": "code",
      "metadata": {
        "id": "uNNVrtM_7CQX"
      },
      "source": [
        "np.random.shuffle(data)"
      ],
      "execution_count": 178,
      "outputs": []
    },
    {
      "cell_type": "code",
      "metadata": {
        "id": "j2baJ5Jz7Fn7"
      },
      "source": [
        "x = []\n",
        "y = []\n",
        "for image in data:\n",
        "    x.append(image[0])\n",
        "    y.append(image[1])\n",
        "\n",
        "# converting x & y to numpy array as they are list\n",
        "x = np.array(x)\n",
        "y = np.array(y)"
      ],
      "execution_count": 179,
      "outputs": []
    },
    {
      "cell_type": "code",
      "metadata": {
        "colab": {
          "base_uri": "https://localhost:8080/"
        },
        "id": "HW6S8icY7qHB",
        "outputId": "0976917c-b3af-45b7-bd30-2b4391119e7f"
      },
      "source": [
        "np.unique(y, return_counts=True)"
      ],
      "execution_count": 180,
      "outputs": [
        {
          "output_type": "execute_result",
          "data": {
            "text/plain": [
              "(array([0, 1]), array([616, 826]))"
            ]
          },
          "metadata": {
            "tags": []
          },
          "execution_count": 180
        }
      ]
    },
    {
      "cell_type": "code",
      "metadata": {
        "id": "tTYNeJPn7tv7"
      },
      "source": [
        "# split the data\n",
        "X_train, X_val, y_train, y_val = train_test_split(x,y,test_size=0.3, random_state = 42)"
      ],
      "execution_count": 181,
      "outputs": []
    },
    {
      "cell_type": "code",
      "metadata": {
        "colab": {
          "base_uri": "https://localhost:8080/"
        },
        "id": "0g6zgFN17zI-",
        "outputId": "bf0c44d5-67e9-414c-b368-21d78265a053"
      },
      "source": [
        "# Defining the model\n",
        "model = tf.keras.Sequential([\n",
        "tf.keras.layers.Flatten(input_shape=(100, 100)), # flattening the image\n",
        "tf.keras.layers.Dense(100, activation='relu'),\n",
        "tf.keras.layers.Dense(90, activation='relu'),\n",
        "tf.keras.layers.Dense(80, activation='relu'),\n",
        "tf.keras.layers.Dense(70, activation='relu'),\n",
        "tf.keras.layers.Dense(60, activation='relu'),\n",
        "tf.keras.layers.Dense(50, activation='relu'),\n",
        "tf.keras.layers.Dense(40, activation='relu'),\n",
        "tf.keras.layers.Dense(30, activation='relu'),\n",
        "tf.keras.layers.Dense(20, activation='relu'),\n",
        "tf.keras.layers.Dense(10, activation='relu'),\n",
        "tf.keras.layers.Dense(1, activation='sigmoid')\n",
        "])\n",
        "\n",
        "model.compile(optimizer='adam',\n",
        "loss='binary_crossentropy',\n",
        "metrics=['accuracy'])\n",
        "\n",
        "model.fit(X_train, y_train, epochs=20, batch_size=10)"
      ],
      "execution_count": 185,
      "outputs": [
        {
          "output_type": "stream",
          "text": [
            "Epoch 1/20\n",
            "101/101 [==============================] - 2s 8ms/step - loss: 7.9665 - accuracy: 0.4928\n",
            "Epoch 2/20\n",
            "101/101 [==============================] - 1s 8ms/step - loss: 2.9805 - accuracy: 0.5100\n",
            "Epoch 3/20\n",
            "101/101 [==============================] - 1s 8ms/step - loss: 0.9574 - accuracy: 0.5363\n",
            "Epoch 4/20\n",
            "101/101 [==============================] - 1s 8ms/step - loss: 0.7793 - accuracy: 0.5515\n",
            "Epoch 5/20\n",
            "101/101 [==============================] - 1s 8ms/step - loss: 0.9189 - accuracy: 0.5326\n",
            "Epoch 6/20\n",
            "101/101 [==============================] - 1s 8ms/step - loss: 0.8443 - accuracy: 0.5269\n",
            "Epoch 7/20\n",
            "101/101 [==============================] - 1s 8ms/step - loss: 0.7077 - accuracy: 0.5713\n",
            "Epoch 8/20\n",
            "101/101 [==============================] - 1s 8ms/step - loss: 0.6998 - accuracy: 0.5853\n",
            "Epoch 9/20\n",
            "101/101 [==============================] - 1s 8ms/step - loss: 0.6847 - accuracy: 0.6037\n",
            "Epoch 10/20\n",
            "101/101 [==============================] - 1s 8ms/step - loss: 0.6594 - accuracy: 0.6296\n",
            "Epoch 11/20\n",
            "101/101 [==============================] - 1s 8ms/step - loss: 0.6633 - accuracy: 0.6345\n",
            "Epoch 12/20\n",
            "101/101 [==============================] - 1s 8ms/step - loss: 0.7025 - accuracy: 0.6064\n",
            "Epoch 13/20\n",
            "101/101 [==============================] - 1s 8ms/step - loss: 0.7346 - accuracy: 0.6198\n",
            "Epoch 14/20\n",
            "101/101 [==============================] - 1s 8ms/step - loss: 0.6519 - accuracy: 0.6276\n",
            "Epoch 15/20\n",
            "101/101 [==============================] - 1s 8ms/step - loss: 0.6483 - accuracy: 0.6416\n",
            "Epoch 16/20\n",
            "101/101 [==============================] - 1s 8ms/step - loss: 0.6779 - accuracy: 0.5726\n",
            "Epoch 17/20\n",
            "101/101 [==============================] - 1s 8ms/step - loss: 0.6459 - accuracy: 0.6395\n",
            "Epoch 18/20\n",
            "101/101 [==============================] - 1s 8ms/step - loss: 0.6101 - accuracy: 0.6717\n",
            "Epoch 19/20\n",
            "101/101 [==============================] - 1s 8ms/step - loss: 0.6658 - accuracy: 0.6086\n",
            "Epoch 20/20\n",
            "101/101 [==============================] - 1s 8ms/step - loss: 0.6727 - accuracy: 0.6480\n"
          ],
          "name": "stdout"
        },
        {
          "output_type": "execute_result",
          "data": {
            "text/plain": [
              "<tensorflow.python.keras.callbacks.History at 0x7fa14d5181d0>"
            ]
          },
          "metadata": {
            "tags": []
          },
          "execution_count": 185
        }
      ]
    },
    {
      "cell_type": "code",
      "metadata": {
        "colab": {
          "base_uri": "https://localhost:8080/"
        },
        "id": "zvpDCLxH8G3R",
        "outputId": "326260a5-35e8-4eb9-d0c7-f6f0b6722b5a"
      },
      "source": [
        "model.evaluate(X_val, y_val)"
      ],
      "execution_count": 186,
      "outputs": [
        {
          "output_type": "stream",
          "text": [
            "14/14 [==============================] - 0s 5ms/step - loss: 0.7346 - accuracy: 0.5982\n"
          ],
          "name": "stdout"
        },
        {
          "output_type": "execute_result",
          "data": {
            "text/plain": [
              "[0.7345910668373108, 0.5981523990631104]"
            ]
          },
          "metadata": {
            "tags": []
          },
          "execution_count": 186
        }
      ]
    },
    {
      "cell_type": "code",
      "metadata": {
        "colab": {
          "base_uri": "https://localhost:8080/",
          "height": 202
        },
        "id": "pRoTeUrAlTkG",
        "outputId": "4130cb1e-9c69-45bf-ba3c-fcad631cf1df"
      },
      "source": [
        "# Loading the order of the image's name that has been provided\n",
        "test_image_order = pd.read_csv(\"/content/content/detect_trees_near_electric_wires/Test.csv\")\n",
        "test_image_order.head()"
      ],
      "execution_count": 187,
      "outputs": [
        {
          "output_type": "execute_result",
          "data": {
            "text/html": [
              "<div>\n",
              "<style scoped>\n",
              "    .dataframe tbody tr th:only-of-type {\n",
              "        vertical-align: middle;\n",
              "    }\n",
              "\n",
              "    .dataframe tbody tr th {\n",
              "        vertical-align: top;\n",
              "    }\n",
              "\n",
              "    .dataframe thead th {\n",
              "        text-align: right;\n",
              "    }\n",
              "</style>\n",
              "<table border=\"1\" class=\"dataframe\">\n",
              "  <thead>\n",
              "    <tr style=\"text-align: right;\">\n",
              "      <th></th>\n",
              "      <th>file_name</th>\n",
              "    </tr>\n",
              "  </thead>\n",
              "  <tbody>\n",
              "    <tr>\n",
              "      <th>0</th>\n",
              "      <td>Image_1.jpg</td>\n",
              "    </tr>\n",
              "    <tr>\n",
              "      <th>1</th>\n",
              "      <td>Image_2.jpg</td>\n",
              "    </tr>\n",
              "    <tr>\n",
              "      <th>2</th>\n",
              "      <td>Image_3.jpg</td>\n",
              "    </tr>\n",
              "    <tr>\n",
              "      <th>3</th>\n",
              "      <td>Image_4.jpg</td>\n",
              "    </tr>\n",
              "    <tr>\n",
              "      <th>4</th>\n",
              "      <td>Image_5.jpg</td>\n",
              "    </tr>\n",
              "  </tbody>\n",
              "</table>\n",
              "</div>"
            ],
            "text/plain": [
              "     file_name\n",
              "0  Image_1.jpg\n",
              "1  Image_2.jpg\n",
              "2  Image_3.jpg\n",
              "3  Image_4.jpg\n",
              "4  Image_5.jpg"
            ]
          },
          "metadata": {
            "tags": []
          },
          "execution_count": 187
        }
      ]
    },
    {
      "cell_type": "code",
      "metadata": {
        "id": "gPIEKkhVn5Fm"
      },
      "source": [
        "file_paths = [[fname, '/content/content/detect_trees_near_electric_wires/test/' + fname] for fname in test_image_order['file_name']]"
      ],
      "execution_count": 188,
      "outputs": []
    },
    {
      "cell_type": "code",
      "metadata": {
        "colab": {
          "base_uri": "https://localhost:8080/"
        },
        "id": "FJ3YpDAloBgc",
        "outputId": "97ee939f-4abb-4419-c40d-0c893f58a3c9"
      },
      "source": [
        "# Confirm if number of images is same as number of labels given\n",
        "if len(test_image_order) == len(file_paths):\n",
        "   print('Number of image names i.e. ', len(test_image_order), 'matches the number of file paths i.e. ', len(file_paths))\n",
        "else:\n",
        "   print('Number of image names does not match the number of filepaths')"
      ],
      "execution_count": 189,
      "outputs": [
        {
          "output_type": "stream",
          "text": [
            "Number of image names i.e.  723 matches the number of file paths i.e.  723\n"
          ],
          "name": "stdout"
        }
      ]
    },
    {
      "cell_type": "code",
      "metadata": {
        "colab": {
          "base_uri": "https://localhost:8080/",
          "height": 202
        },
        "id": "sPT552LGoI6Q",
        "outputId": "59c7bbe3-a7bb-4e1f-ca3e-dab47bf892ab"
      },
      "source": [
        "test_images = pd.DataFrame(file_paths, columns=['file_name', 'filepaths'])\n",
        "test_images.head()"
      ],
      "execution_count": 190,
      "outputs": [
        {
          "output_type": "execute_result",
          "data": {
            "text/html": [
              "<div>\n",
              "<style scoped>\n",
              "    .dataframe tbody tr th:only-of-type {\n",
              "        vertical-align: middle;\n",
              "    }\n",
              "\n",
              "    .dataframe tbody tr th {\n",
              "        vertical-align: top;\n",
              "    }\n",
              "\n",
              "    .dataframe thead th {\n",
              "        text-align: right;\n",
              "    }\n",
              "</style>\n",
              "<table border=\"1\" class=\"dataframe\">\n",
              "  <thead>\n",
              "    <tr style=\"text-align: right;\">\n",
              "      <th></th>\n",
              "      <th>file_name</th>\n",
              "      <th>filepaths</th>\n",
              "    </tr>\n",
              "  </thead>\n",
              "  <tbody>\n",
              "    <tr>\n",
              "      <th>0</th>\n",
              "      <td>Image_1.jpg</td>\n",
              "      <td>/content/content/detect_trees_near_electric_wi...</td>\n",
              "    </tr>\n",
              "    <tr>\n",
              "      <th>1</th>\n",
              "      <td>Image_2.jpg</td>\n",
              "      <td>/content/content/detect_trees_near_electric_wi...</td>\n",
              "    </tr>\n",
              "    <tr>\n",
              "      <th>2</th>\n",
              "      <td>Image_3.jpg</td>\n",
              "      <td>/content/content/detect_trees_near_electric_wi...</td>\n",
              "    </tr>\n",
              "    <tr>\n",
              "      <th>3</th>\n",
              "      <td>Image_4.jpg</td>\n",
              "      <td>/content/content/detect_trees_near_electric_wi...</td>\n",
              "    </tr>\n",
              "    <tr>\n",
              "      <th>4</th>\n",
              "      <td>Image_5.jpg</td>\n",
              "      <td>/content/content/detect_trees_near_electric_wi...</td>\n",
              "    </tr>\n",
              "  </tbody>\n",
              "</table>\n",
              "</div>"
            ],
            "text/plain": [
              "     file_name                                          filepaths\n",
              "0  Image_1.jpg  /content/content/detect_trees_near_electric_wi...\n",
              "1  Image_2.jpg  /content/content/detect_trees_near_electric_wi...\n",
              "2  Image_3.jpg  /content/content/detect_trees_near_electric_wi...\n",
              "3  Image_4.jpg  /content/content/detect_trees_near_electric_wi...\n",
              "4  Image_5.jpg  /content/content/detect_trees_near_electric_wi..."
            ]
          },
          "metadata": {
            "tags": []
          },
          "execution_count": 190
        }
      ]
    },
    {
      "cell_type": "code",
      "metadata": {
        "id": "ENK2yIQdoNf-"
      },
      "source": [
        "test_pixel_data = [] # initialize an empty numpy array\n",
        "image_size = 100 # image size taken is 100 here. one can take other size too\n",
        "for i in range(len(test_images)):\n",
        "\n",
        "    img_array = cv2.imread(test_images['filepaths'][i], cv2.IMREAD_GRAYSCALE) # converting the image to gray scale\n",
        "\n",
        "    new_img_array = cv2.resize(img_array, (image_size, image_size)) # resizing the image array\n",
        "\n",
        "    test_pixel_data.append(new_img_array)"
      ],
      "execution_count": 191,
      "outputs": []
    },
    {
      "cell_type": "code",
      "metadata": {
        "id": "RIc9nvuiogB7"
      },
      "source": [
        "test_pixel_data = np.array(test_pixel_data)"
      ],
      "execution_count": 192,
      "outputs": []
    },
    {
      "cell_type": "code",
      "metadata": {
        "id": "-3yQgIP_omEb"
      },
      "source": [
        "pred = model.predict(test_pixel_data)"
      ],
      "execution_count": 193,
      "outputs": []
    },
    {
      "cell_type": "code",
      "metadata": {
        "colab": {
          "base_uri": "https://localhost:8080/"
        },
        "id": "Y3FGY11bopZe",
        "outputId": "7c5153ad-9aaa-4edf-ee6e-d4c7c9294140"
      },
      "source": [
        "# The predicted values are the probabilities value\n",
        "pred[0]"
      ],
      "execution_count": 194,
      "outputs": [
        {
          "output_type": "execute_result",
          "data": {
            "text/plain": [
              "array([0.7731006], dtype=float32)"
            ]
          },
          "metadata": {
            "tags": []
          },
          "execution_count": 194
        }
      ]
    },
    {
      "cell_type": "code",
      "metadata": {
        "id": "Pf51X3Qxosvs"
      },
      "source": [
        "prediction = []\n",
        "for value in pred:\n",
        "    if value < 0.5:\n",
        "       prediction.append(0)\n",
        "    else:\n",
        "       prediction.append(1)"
      ],
      "execution_count": 195,
      "outputs": []
    },
    {
      "cell_type": "code",
      "metadata": {
        "colab": {
          "base_uri": "https://localhost:8080/"
        },
        "id": "Zr81yJNNo43r",
        "outputId": "a87fb69a-1531-4139-e745-30fc00f45fbd"
      },
      "source": [
        "prediction[0]"
      ],
      "execution_count": 196,
      "outputs": [
        {
          "output_type": "execute_result",
          "data": {
            "text/plain": [
              "1"
            ]
          },
          "metadata": {
            "tags": []
          },
          "execution_count": 196
        }
      ]
    },
    {
      "cell_type": "code",
      "metadata": {
        "colab": {
          "base_uri": "https://localhost:8080/",
          "height": 17
        },
        "id": "zyIGcJsMo7-H",
        "outputId": "3a886ae9-8757-4a15-d3d4-73239fdbbdc6"
      },
      "source": [
        "res = pd.DataFrame({'file_name': test_images['file_name'], 'prediction': prediction}) # prediction is nothing but the final predictions of your model on input features of your new unseen test data\n",
        "res.to_csv(\"submission.csv\", index = False)\n",
        "\n",
        "# To download the csv file locally\n",
        "from google.colab import files\n",
        "files.download('submission.csv')"
      ],
      "execution_count": 197,
      "outputs": [
        {
          "output_type": "display_data",
          "data": {
            "application/javascript": [
              "\n",
              "    async function download(id, filename, size) {\n",
              "      if (!google.colab.kernel.accessAllowed) {\n",
              "        return;\n",
              "      }\n",
              "      const div = document.createElement('div');\n",
              "      const label = document.createElement('label');\n",
              "      label.textContent = `Downloading \"${filename}\": `;\n",
              "      div.appendChild(label);\n",
              "      const progress = document.createElement('progress');\n",
              "      progress.max = size;\n",
              "      div.appendChild(progress);\n",
              "      document.body.appendChild(div);\n",
              "\n",
              "      const buffers = [];\n",
              "      let downloaded = 0;\n",
              "\n",
              "      const channel = await google.colab.kernel.comms.open(id);\n",
              "      // Send a message to notify the kernel that we're ready.\n",
              "      channel.send({})\n",
              "\n",
              "      for await (const message of channel.messages) {\n",
              "        // Send a message to notify the kernel that we're ready.\n",
              "        channel.send({})\n",
              "        if (message.buffers) {\n",
              "          for (const buffer of message.buffers) {\n",
              "            buffers.push(buffer);\n",
              "            downloaded += buffer.byteLength;\n",
              "            progress.value = downloaded;\n",
              "          }\n",
              "        }\n",
              "      }\n",
              "      const blob = new Blob(buffers, {type: 'application/binary'});\n",
              "      const a = document.createElement('a');\n",
              "      a.href = window.URL.createObjectURL(blob);\n",
              "      a.download = filename;\n",
              "      div.appendChild(a);\n",
              "      a.click();\n",
              "      div.remove();\n",
              "    }\n",
              "  "
            ],
            "text/plain": [
              "<IPython.core.display.Javascript object>"
            ]
          },
          "metadata": {
            "tags": []
          }
        },
        {
          "output_type": "display_data",
          "data": {
            "application/javascript": [
              "download(\"download_a1c3c066-e69c-48ba-a377-737d0c095ec6\", \"submission.csv\", 11481)"
            ],
            "text/plain": [
              "<IPython.core.display.Javascript object>"
            ]
          },
          "metadata": {
            "tags": []
          }
        }
      ]
    },
    {
      "cell_type": "code",
      "metadata": {
        "id": "6SCuc_Z7pEur"
      },
      "source": [
        ""
      ],
      "execution_count": null,
      "outputs": []
    }
  ]
}